{
 "cells": [
  {
   "cell_type": "code",
   "execution_count": 1,
   "id": "42c2a524",
   "metadata": {},
   "outputs": [
    {
     "name": "stdout",
     "output_type": "stream",
     "text": [
      "Requirement already satisfied: opencv-python in c:\\users\\shashank\\anaconda3\\lib\\site-packages (4.8.0.74)\n",
      "Requirement already satisfied: numpy>=1.21.2 in c:\\users\\shashank\\anaconda3\\lib\\site-packages (from opencv-python) (1.24.3)\n",
      "Note: you may need to restart the kernel to use updated packages.\n"
     ]
    }
   ],
   "source": [
    "pip install opencv-python"
   ]
  },
  {
   "cell_type": "code",
   "execution_count": 2,
   "id": "7e626daa",
   "metadata": {},
   "outputs": [],
   "source": [
    "import cv2"
   ]
  },
  {
   "cell_type": "code",
   "execution_count": 3,
   "id": "06a74ded",
   "metadata": {},
   "outputs": [],
   "source": [
    "image_path = 'http://localhost:8888/view/ssasds.jpg'"
   ]
  },
  {
   "cell_type": "code",
   "execution_count": 4,
   "id": "86dd5424",
   "metadata": {},
   "outputs": [],
   "source": [
    "image = cv2.imread('ssasds.jpg')\n"
   ]
  },
  {
   "cell_type": "code",
   "execution_count": 5,
   "id": "a286a6bf",
   "metadata": {},
   "outputs": [],
   "source": [
    "if image is None:\n",
    "    print(\"Error: Unable to load image.\")\n",
    "else:\n",
    "    gray = cv2.cvtColor(image, cv2.COLOR_BGR2GRAY)"
   ]
  },
  {
   "cell_type": "code",
   "execution_count": 6,
   "id": "e04e6a5c",
   "metadata": {},
   "outputs": [],
   "source": [
    "face_cascade = cv2.CascadeClassifier(cv2.data.haarcascades + 'haarcascade_frontalface_default.xml')\n"
   ]
  },
  {
   "cell_type": "code",
   "execution_count": 7,
   "id": "1bbcccfe",
   "metadata": {},
   "outputs": [],
   "source": [
    "   faces = face_cascade.detectMultiScale(gray, scaleFactor=1.1, minNeighbors=5, minSize=(30, 30))"
   ]
  },
  {
   "cell_type": "code",
   "execution_count": 8,
   "id": "95c6a4a6",
   "metadata": {},
   "outputs": [],
   "source": [
    " for (x, y, w, h) in faces:\n",
    "        cv2.rectangle(image, (x, y), (x + w, y + h), (0, 255, 0), 2)\n",
    "        cv2.imshow('Face Detection', image)"
   ]
  },
  {
   "cell_type": "code",
   "execution_count": 9,
   "id": "13144e83",
   "metadata": {},
   "outputs": [],
   "source": [
    "    cv2.waitKey(0)\n",
    "    cv2.destroyAllWindows()"
   ]
  },
  {
   "cell_type": "code",
   "execution_count": null,
   "id": "2e678d9a",
   "metadata": {},
   "outputs": [],
   "source": []
  }
 ],
 "metadata": {
  "kernelspec": {
   "display_name": "Python 3 (ipykernel)",
   "language": "python",
   "name": "python3"
  },
  "language_info": {
   "codemirror_mode": {
    "name": "ipython",
    "version": 3
   },
   "file_extension": ".py",
   "mimetype": "text/x-python",
   "name": "python",
   "nbconvert_exporter": "python",
   "pygments_lexer": "ipython3",
   "version": "3.11.3"
  }
 },
 "nbformat": 4,
 "nbformat_minor": 5
}
